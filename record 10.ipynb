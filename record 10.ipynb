
{
 "cells": [
  {
   "cell_type": "code",
   "execution_count": 2,
   "id": "b77bac0a",
   "metadata": {},
   "outputs": [
    {
     "name": "stdout",
     "output_type": "stream",
     "text": [
      "enter num1:5\n",
      "num2:0\n",
      "Division by 0 isn't permitted\n",
      "COMPLETED EXECUTION!\n"
     ]
    }
   ],
   "source": [
    "#1. Write a program to handle ZeroDivisionError, ValueError which may arise when two numbers are being divided.\n",
    "try:\n",
    "    a=int(input(\"enter num1:\"))\n",
    "    b=int(input(\"num2:\"))\n",
    "    c=a//b\n",
    "    \n",
    "except(ZeroDivisionError):\n",
    "    print(\"Division by 0 isn't permitted\")\n",
    "except(ValueError):\n",
    "    print(\"This Value isn't permitted\")\n",
    "else:\n",
    "    print(c)\n",
    "finally:\n",
    "    print(\"COMPLETED EXECUTION!\")\n"
   ]
  },
  {
   "cell_type": "code",
   "execution_count": null,
   "id": "8339731d",
   "metadata": {},
   "outputs": [],
   "source": []
  }
 ],
 "metadata": {
  "kernelspec": {
   "display_name": "Python 3 (ipykernel)",
   "language": "python",
   "name": "python3"
  },
  "language_info": {
   "codemirror_mode": {
    "name": "ipython",
    "version": 3
   },
   "file_extension": ".py",
   "mimetype": "text/x-python",
   "name": "python",
   "nbconvert_exporter": "python",
   "pygments_lexer": "ipython3",
   "version": "3.10.12"
  }
 },
 "nbformat": 4,
 "nbformat_minor": 5
}

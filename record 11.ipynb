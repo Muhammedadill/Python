{
 "cells": [
  {
   "cell_type": "code",
   "execution_count": 1,
   "id": "a1fd7626",
   "metadata": {},
   "outputs": [
    {
     "name": "stdout",
     "output_type": "stream",
     "text": [
      "Enter emails (space separated): adil@gmail.com adil@\n",
      "Enter phone numbers (space separated): 9878765456 7867897\n",
      "\n",
      "Checking emails:\n",
      "adil@gmail.com is valid.\n",
      "adil@ is not a valid email.\n",
      "\n",
      "Checking phone numbers:\n",
      "9878765456 is likely a valid phone number.\n",
      "7867897 is not a valid phone number.\n"
     ]
    }
   ],
   "source": [
    "#1. Write a Python program that accepts a list of email addresses and phone numbers from the user, separated by commas, and validates each input using regular expressions.\n",
    "\n",
    "import re\n",
    "\n",
    "emails = input(\"Enter emails (space separated): \").split()\n",
    "\n",
    "phones = input(\"Enter phone numbers (space separated): \").split()\n",
    "\n",
    "print(\"\\nChecking emails:\")\n",
    "for email in emails:\n",
    "  if re.match(r\"^[a-zA-Z0-9._%+-]+@[a-zA-Z0-9.-]+\\.[a-zA-Z]{2,}$\", email):\n",
    "    print(email,\"is valid.\")\n",
    "  else:\n",
    "    print(email,\"is not a valid email.\")\n",
    "\n",
    "print(\"\\nChecking phone numbers:\")\n",
    "for phone in phones:\n",
    "  if re.match(r\"^[1-9]\\d{9}$\", phone):\n",
    "    print(phone,\"is likely a valid phone number.\")\n",
    "  else:\n",
    "    print(phone,\"is not a valid phone number.\")"
   ]
  },
  {
   "cell_type": "code",
   "execution_count": null,
   "id": "f013cfdf",
   "metadata": {},
   "outputs": [],
   "source": []
  }
 ],
 "metadata": {
  "kernelspec": {
   "display_name": "Python 3 (ipykernel)",
   "language": "python",
   "name": "python3"
  },
  "language_info": {
   "codemirror_mode": {
    "name": "ipython",
    "version": 3
   },
   "file_extension": ".py",
   "mimetype": "text/x-python",
   "name": "python",
   "nbconvert_exporter": "python",
   "pygments_lexer": "ipython3",
   "version": "3.10.12"
  }
 },
 "nbformat": 4,
 "nbformat_minor": 5
}

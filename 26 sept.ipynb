{
 "cells": [
  {
   "cell_type": "code",
   "execution_count": 2,
   "id": "74b3db1a",
   "metadata": {},
   "outputs": [
    {
     "name": "stdout",
     "output_type": "stream",
     "text": [
      "enter the side:4\n",
      "are= 16\n"
     ]
    }
   ],
   "source": [
    "s=int(input(\"enter the side:\"))\n",
    "area=s*s\n",
    "print(\"are=\",area)"
   ]
  },
  {
   "cell_type": "code",
   "execution_count": 5,
   "id": "6522eaf8",
   "metadata": {},
   "outputs": [
    {
     "name": "stdout",
     "output_type": "stream",
     "text": [
      "enter the bse values4\n",
      "enter the height values4\n",
      "area of right angled triangle: 8.0\n"
     ]
    }
   ],
   "source": [
    "b=int(input(\"enter the bse values\"))\n",
    "h=int(input(\"enter the height values\"))\n",
    "area=(b*h)/2\n",
    "print(\"area of right angled triangle:\",area)\n"
   ]
  },
  {
   "cell_type": "code",
   "execution_count": 6,
   "id": "caed59be",
   "metadata": {},
   "outputs": [
    {
     "name": "stdout",
     "output_type": "stream",
     "text": [
      "enter your name:adil\n",
      "hello adil !\n"
     ]
    }
   ],
   "source": [
    "name=input(\"enter your name:\")\n",
    "print(\"hello\",name,\"!\")"
   ]
  },
  {
   "cell_type": "code",
   "execution_count": 7,
   "id": "9d4a8502",
   "metadata": {},
   "outputs": [
    {
     "name": "stdout",
     "output_type": "stream",
     "text": [
      "enter a number:5\n",
      "previous number= 4\n",
      "next number= 6\n"
     ]
    }
   ],
   "source": [
    "a=int(input(\"enter a number:\"))\n",
    "p=a-1\n",
    "n=a+1\n",
    "print(\"previous number=\",p)\n",
    "print(\"next number=\",n)\n"
   ]
  },
  {
   "cell_type": "code",
   "execution_count": 10,
   "id": "7e1f1442",
   "metadata": {},
   "outputs": [
    {
     "name": "stdout",
     "output_type": "stream",
     "text": [
      "enter the principle amount:300\n",
      "enter the rate of interest:10\n",
      "enter the year or period:2\n",
      "insert is=  60.0\n"
     ]
    }
   ],
   "source": [
    "p=float(input(\"enter the principle amount:\"))\n",
    "r=float(input(\"enter the rate of interest:\"))\n",
    "t=float(input(\"enter the year or period:\"))\n",
    "a=(p*r*t)/100\n",
    "print(\"insert is= \",a)"
   ]
  },
  {
   "cell_type": "code",
   "execution_count": null,
   "id": "9c3741db",
   "metadata": {},
   "outputs": [],
   "source": []
  }
 ],
 "metadata": {
  "kernelspec": {
   "display_name": "Python 3 (ipykernel)",
   "language": "python",
   "name": "python3"
  },
  "language_info": {
   "codemirror_mode": {
    "name": "ipython",
    "version": 3
   },
   "file_extension": ".py",
   "mimetype": "text/x-python",
   "name": "python",
   "nbconvert_exporter": "python",
   "pygments_lexer": "ipython3",
   "version": "3.10.12"
  }
 },
 "nbformat": 4,
 "nbformat_minor": 5
}


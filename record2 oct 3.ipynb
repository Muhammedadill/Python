{
 "cells": [
  {
   "cell_type": "code",
   "execution_count": 4,
   "id": "97b3243a",
   "metadata": {},
   "outputs": [
    {
     "name": "stdout",
     "output_type": "stream",
     "text": [
      "enter temperaturein celsius:37\n",
      "37.0 equal to 98.6~f\n"
     ]
    }
   ],
   "source": [
    "celsius=float(input(\"enter temperaturein celsius:\"))\n",
    "farenheit=celsius*9/5+32\n",
    "print(f\"{celsius} equal to {farenheit}~f\")"
   ]
  },
  {
   "cell_type": "code",
   "execution_count": 6,
   "id": "4a1abbfb",
   "metadata": {},
   "outputs": [
    {
     "name": "stdout",
     "output_type": "stream",
     "text": [
      "enter kilomiter:5\n",
      "the 5 kilometer equal to 3.106855 mile\n"
     ]
    }
   ],
   "source": [
    "km=int(input(\"enter kilomiter:\"))\n",
    "mile=km*0.621371\n",
    "print(f\"the {km} kilometer equal to {mile} mile\")"
   ]
  },
  {
   "cell_type": "code",
   "execution_count": 12,
   "id": "5e5cf1cd",
   "metadata": {},
   "outputs": [
    {
     "name": "stdout",
     "output_type": "stream",
     "text": [
      "Enter price of product 1: 120\n",
      "Enter price of product 2: 80\n",
      "Enter price of product 3: 30\n",
      "The total price  230\n",
      "The average price: 76.67\n",
      "The final price:  195.5 \n",
      "\n",
      "A is expensive than the final price: False\n",
      "B is expensive than the final price: False\n",
      "C is expensive than the final price: False \n",
      "\n",
      "Final price is between $0 and $200: True\n"
     ]
    }
   ],
   "source": [
    "#3 get 3 product prices. calculate (total, average, final) price,check if each product price & final product is expens\n",
    "p1=int(input(\"Enter price of product 1: \"))\n",
    "p2=int(input(\"Enter price of product 2: \"))\n",
    "p3=int(input(\"Enter price of product 3: \"))\n",
    "\n",
    "total = p1 +p2 +p3\n",
    "avg = total / 3\n",
    "fp = total - (total * 0.15)\n",
    "\n",
    "print(\"The total price \", total)\n",
    "print(f\"The average price: {avg:.2f}\")\n",
    "print(\"The final price: \", fp,\"\\n\")\n",
    "      \n",
    "print(\"A is expensive than the final price:\", p1 > fp)\n",
    "print(\"B is expensive than the final price:\", p2 > fp)\n",
    "print(\"C is expensive than the final price:\", p3 > fp,\"\\n\")\n",
    "\n",
    "print(\"Final price is between $0 and $200:\",0 <= fp < 200)      "
   ]
  },
  {
   "cell_type": "code",
   "execution_count": null,
   "id": "16ef1b48",
   "metadata": {},
   "outputs": [],
   "source": []
  }
 ],
 "metadata": {
  "kernelspec": {
   "display_name": "Python 3 (ipykernel)",
   "language": "python",
   "name": "python3"
  },
  "language_info": {
   "codemirror_mode": {
    "name": "ipython",
    "version": 3
   },
   "file_extension": ".py",
   "mimetype": "text/x-python",
   "name": "python",
   "nbconvert_exporter": "python",
   "pygments_lexer": "ipython3",
   "version": "3.10.12"
  }
 },
 "nbformat": 4,
 "nbformat_minor": 5
}

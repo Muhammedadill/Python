
{
 "cells": [
  {
   "cell_type": "markdown",
   "id": "12cb5744",
   "metadata": {},
   "source": [
    "1. Create modules Rectangle, Circle. Include methods to find area and perimeter of respective figures in each module. Write programs that finds area and perimeter of figures by different importing statements."
   ]
  },
  {
   "cell_type": "code",
   "execution_count": 1,
   "id": "6f68ba6d",
   "metadata": {},
   "outputs": [
    {
     "name": "stdout",
     "output_type": "stream",
     "text": [
      "1. Circle\n",
      "2. Rectangle\n",
      "3. Exit\n",
      "Enter option: 1\n",
      "\n",
      "Enter radius: 3\n",
      "Area of Circle:  28\n",
      "Perimeter of circle:  18\n",
      "1. Circle\n",
      "2. Rectangle\n",
      "3. Exit\n",
      "Enter option: 2\n",
      "\n",
      "Enter length: 5\n",
      "Enter breadth: 3\n",
      "Area of Rectangle:  15\n",
      "Perimeter of rectangle:  16\n",
      "1. Circle\n",
      "2. Rectangle\n",
      "3. Exit\n",
      "Enter option: 3\n"
     ]
    }
   ],
   "source": [
    "import Rectangle, Circle\n",
    "\n",
    "while True:\n",
    "    option = input(\"1. Circle\\n2. Rectangle\\n3. Exit\\nEnter option: \")\n",
    "    \n",
    "    if option == '1':\n",
    "        r = int(input(\"\\nEnter radius: \"))\n",
    "        Circle.circlearea(r)\n",
    "        Circle.circleperi(r)\n",
    "        \n",
    "    elif option == '2':\n",
    "        l = int(input(\"\\nEnter length: \"))\n",
    "        b = int(input(\"Enter breadth: \"))  \n",
    "        Rectangle.rectarea(l, b)\n",
    "        Rectangle.rectperi(l, b)\n",
    "    elif option == '3':\n",
    "        break  \n",
    "    else:\n",
    "        print(\"Invalid option. Please try again.\")"
   ]
  },
  {
   "cell_type": "markdown",
   "id": "9cd6ad88",
   "metadata": {},
   "source": [
    "2. Create a package graphics with modules rectangle, circle and sub package graphics3D with modules cuboid and sphere. Include methods to find area and perimeter of respective figures in each module. Write programs that finds area and perimeter of figures by different importing statements. (Include selective import of modules and import * statements)"
   ]
  },
  {
   "cell_type": "code",
   "execution_count": 2,
   "id": "4739e429",
   "metadata": {},
   "outputs": [
    {
     "name": "stdout",
     "output_type": "stream",
     "text": [
      "CIRCLE\n",
      "Enter radius: 5\n",
      "Area of Circle:  78.5\n",
      "Perimeter of circle:  31\n",
      "\n",
      "RECTANGLE\n",
      "Enter length: 5\n",
      "Enter breadth: 2\n",
      "Area of Rectangle:  10\n",
      "Perimeter of rectangle:  14\n",
      "\n",
      "CUBOID\n",
      "Enter length: 3\n",
      "Enter breadth: 6\n",
      "Enter height: 4\n",
      "Area of cuboid:  108\n",
      "Perimeter of cuboid:  52\n",
      "\n",
      "SPHERE\n",
      "Enter radius: 2\n",
      "Area of sphere:  25.12\n",
      "Perimeter of sphere:  50.24\n"
     ]
    }
   ],
   "source": [
    "from graphics.Circle import circlearea, circleperi\n",
    "from graphics.Rectangle import rectarea, rectperi\n",
    "from graphics.graphics3d.cuboida import cuboidarea, cuboidperi\n",
    "from graphics.graphics3d.sphere import spherearea, sphereperi\n",
    "\n",
    "r = int(input(\"CIRCLE\\nEnter radius: \"))\n",
    "circlearea(r)\n",
    "circleperi(r)\n",
    "\n",
    "l = int(input(\"\\nRECTANGLE\\nEnter length: \"))\n",
    "b = int(input(\"Enter breadth: \"))\n",
    "rectarea(l, b)\n",
    "rectperi(l, b)\n",
    "\n",
    "l = int(input(\"\\nCUBOID\\nEnter length: \"))  \n",
    "b = int(input(\"Enter breadth: \"))\n",
    "h = int(input(\"Enter height: \"))\n",
    "cuboidarea(l, b, h)\n",
    "cuboidperi(l, b, h)\n",
    "\n",
    "r = int(input(\"\\nSPHERE\\nEnter radius: \"))\n",
    "spherearea(r)\n",
    "sphereperi(r)"
   ]
  },
  {
   "cell_type": "code",
   "execution_count": null,
   "id": "40760330",
   "metadata": {},
   "outputs": [],
   "source": []
  }
 ],
 "metadata": {
  "kernelspec": {
   "display_name": "Python 3 (ipykernel)",
   "language": "python",
   "name": "python3"
  },
  "language_info": {
   "codemirror_mode": {
    "name": "ipython",
    "version": 3
   },
   "file_extension": ".py",
   "mimetype": "text/x-python",
   "name": "python",
   "nbconvert_exporter": "python",
   "pygments_lexer": "ipython3",
   "version": "3.10.12"
  }
 },
 "nbformat": 4,
 "nbformat_minor": 5
}

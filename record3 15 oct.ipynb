
{
 "cells": [
  {
   "cell_type": "code",
   "execution_count": 2,
   "id": "a010d678",
   "metadata": {},
   "outputs": [
    {
     "name": "stdout",
     "output_type": "stream",
     "text": [
      "enter a string :python\n",
      "the new string is : nythop\n"
     ]
    }
   ],
   "source": [
    "# 1. python nythop\n",
    "s=input(\"enter a string :\")\n",
    "a=s[0]\n",
    "b=s[-1]\n",
    "c=b+s[1:-1]+a\n",
    "print(\"the new string is :\",c)"
   ]
  },
  {
   "cell_type": "code",
   "execution_count": 1,
   "id": "9deb1141",
   "metadata": {},
   "outputs": [
    {
     "name": "stdout",
     "output_type": "stream",
     "text": [
      "enter string 1:hello\n",
      "enter string 1:python\n",
      "first word = pyllo hethon\n"
     ]
    }
   ],
   "source": [
    "# 2. first 2 letter swap\n",
    "first=(input(\"enter string 1:\"))\n",
    "second=(input(\"enter string 1:\"))\n",
    "a=first[0:2]\n",
    "b=second[0:2]\n",
    "first_word=b+first[2:]\n",
    "second_word=a+second[2:]\n",
    "print(f\"first word =\",first_word,second_word) "
   ]
  },
  {
   "cell_type": "code",
   "execution_count": null,
   "id": "67d7d425",
   "metadata": {},
   "outputs": [],
   "source": [
    "# 3. replacing letters in string\n",
    "s=str(input(\"enter a string:\"))\n",
    "a=s[0]\n",
    "b=s[1:]\n",
    "c=b.replace(a,\"$\")\n",
    "ns=s[0]+c\n",
    "print(\"new string is :\",ns)"
   ]
  },
  {
   "cell_type": "code",
   "execution_count": 11,
   "id": "9101193b",
   "metadata": {},
   "outputs": [
    {
     "name": "stdout",
     "output_type": "stream",
     "text": [
      "enter colours :yellow,black,blue,red\n",
      "first colour is : yellow\n",
      "last colour is : red\n"
     ]
    }
   ],
   "source": [
    "# 4. print first and last color\n",
    "c=str(input(\"enter colours :\"))\n",
    "a=c.split(\",\")\n",
    "print(\"first colour is :\",a[0])\n",
    "print(\"last colour is :\",a[-1])"
   ]
  },
  {
   "cell_type": "code",
   "execution_count": 18,
   "id": "1b6a778b",
   "metadata": {},
   "outputs": [
    {
     "name": "stdout",
     "output_type": "stream",
     "text": [
      "enter name : adil.html\n",
      "extension of name is : html\n"
     ]
    }
   ],
   "source": [
    "# 5. print the extension of file\n",
    "a=str(input(\"enter name : \"))\n",
    "p=a.split(\".\")\n",
    "print(\"extension of name is :\",p[-1])"
   ]
  },
  {
   "cell_type": "code",
   "execution_count": 20,
   "id": "f157685c",
   "metadata": {},
   "outputs": [
    {
     "name": "stdout",
     "output_type": "stream",
     "text": [
      "enter number : 10,20,30,40,50,60\n",
      "tuple is : 30\n",
      "third element is : 30\n",
      "third element form last: 40\n"
     ]
    }
   ],
   "source": [
    "# 6. 3rd element from last of tuple\n",
    "t=tuple(input(\"enter number : \").split(\",\"))\n",
    "print(\"tuple is :\",t[2])\n",
    "print(\"third element is :\",t[2])\n",
    "print(\"third element form last:\",t[-3])"
   ]
  },
  {
   "cell_type": "code",
   "execution_count": null,
   "id": "85bb715d",
   "metadata": {},
   "outputs": [],
   "source": [
    "# 7. color 1 not in color 2\n",
    "f=set (input(\"enter colorset-1 :\").split(\",\"))\n",
    "s=set (input(\"enter colorset-2 :\").split(\",\"))\n",
    "diff=f-s\n",
    "print({f\"{diff}\"})"
   ]
  },
  {
   "cell_type": "code",
   "execution_count": 13,
   "id": "b1d18262",
   "metadata": {},
   "outputs": [
    {
     "name": "stdout",
     "output_type": "stream",
     "text": [
      "enter 5 student names seperated by spaces:ashwin roshan yaseen nabeel amil\n",
      "ascending: {0: 'ashwin', 1: 'roshan', 2: 'yaseen', 3: 'nabeel', 4: 'amil'}\n",
      "descending: {4: 'amil', 3: 'nabeel', 2: 'yaseen', 1: 'roshan', 0: 'ashwin'}\n"
     ]
    }
   ],
   "source": [
    "# 8.accept 5 students names from user,sort dictionary in ascending and descending order\n",
    "names_str=input(\"enter 5 student names seperated by spaces:\")\n",
    "names = names_str.split()\n",
    "stud = dict(enumerate(names))\n",
    "sorted_asc = dict(sorted(stud.items()))\n",
    "print(\"ascending:\",sorted_asc)\n",
    "sorted_desc = dict(sorted(stud.items(),reverse=True))\n",
    "print(\"descending:\",sorted_desc)"
   ]
  },
  {
   "cell_type": "code",
   "execution_count": 10,
   "id": "72350e73",
   "metadata": {},
   "outputs": [
    {
     "name": "stdout",
     "output_type": "stream",
     "text": [
      "enter name of 1st students:aswin\n",
      "enter name of 2nd students:roshan\n",
      "enter name of 3rd students:yaseen\n",
      "First dict is : {'1': 'aswin', '2': 'roshan', '3': 'yaseen'}\n",
      "Enter name of 1st students :nabeel\n",
      "Enter name of 2nd students :amil\n",
      "second dict is : {'4': 'nabeel', '5': 'amil'}\n",
      "merged dict : {'1': 'aswin', '2': 'roshan', '3': 'yaseen', '4': 'nabeel', '5': 'amil'}\n"
     ]
    }
   ],
   "source": [
    "# 9.Merge two dictionaries\n",
    "d1={}\n",
    "a=input(\"enter name of 1st students:\")\n",
    "b=input(\"enter name of 2nd students:\")\n",
    "c=input(\"enter name of 3rd students:\")\n",
    "d1 ['1']=a\n",
    "d1 ['2']=b\n",
    "d1 ['3']=c\n",
    "print(\"First dict is :\",d1)\n",
    "\n",
    "d2={}\n",
    "d=input(\"Enter name of 1st students :\")\n",
    "e=input(\"Enter name of 2nd students :\")\n",
    "d2 ['4']=d\n",
    "d2 ['5']=e\n",
    "print(\"second dict is :\",d2)\n",
    "\n",
    "d1.update(d2)\n",
    "print(\"merged dict :\",d1)\n"
   ]
  },
  {
   "cell_type": "code",
   "execution_count": 12,
   "id": "09bba6ed",
   "metadata": {},
   "outputs": [
    {
     "name": "stdout",
     "output_type": "stream",
     "text": [
      "even no from 1 to 25 = [2, 4, 6, 8, 10, 12, 14, 16, 18, 20, 22, 24]\n",
      "sum of even no = 156\n"
     ]
    }
   ],
   "source": [
    "# 10.print all even numbers(1-25) and calculate sum\n",
    "a=list(range(2,25,2))\n",
    "print(\"even no from 1 to 25 =\",a)\n",
    "b=sum(a)\n",
    "print(\"sum of even no =\",b)"
   ]
  }
 ],
 "metadata": {
  "kernelspec": {
   "display_name": "Python 3 (ipykernel)",
   "language": "python",
   "name": "python3"
  },
  "language_info": {
   "codemirror_mode": {
    "name": "ipython",
    "version": 3
   },
   "file_extension": ".py",
   "mimetype": "text/x-python",
   "name": "python",
   "nbconvert_exporter": "python",
   "pygments_lexer": "ipython3",
   "version": "3.10.12"
  }
 },
 "nbformat": 4,
 "nbformat_minor": 5
}

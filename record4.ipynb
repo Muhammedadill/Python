{
 "cells": [
  {
   "cell_type": "code",
   "execution_count": 3,
   "id": "66d8b0f8",
   "metadata": {},
   "outputs": [
    {
     "name": "stdout",
     "output_type": "stream",
     "text": [
      "enter the text :the beginning is the end and the end is the beginning \n",
      "number of each word in a line is {'is': 2, 'beginning': 2, 'and': 1, 'end': 2, 'the': 4}\n"
     ]
    }
   ],
   "source": [
    "#1.count the occurrences of each word in a line of text\n",
    "text=input(\"enter the text :\")\n",
    "nl={word:text.split().count(word) for word in set(text.split())}\n",
    "print(\"number of each word in a line is\",nl)"
   ]
  },
  {
   "cell_type": "code",
   "execution_count": 17,
   "id": "e0358011",
   "metadata": {},
   "outputs": [
    {
     "name": "stdout",
     "output_type": "stream",
     "text": [
      "enter the numbers :10 200 30 400\n",
      "after storing 'over' [10, 'over', 30, 'over']\n"
     ]
    }
   ],
   "source": [
    "#2.prompt the user for a list of integers values greater than 100,store 'over'\n",
    "n=input(\"enter the numbers :\")\n",
    "int_list=[int(x) for x in n.split()]\n",
    "mod_list=['over' if x>100 else x for x in int_list]\n",
    "print(\"after storing 'over'\",mod_list)"
   ]
  },
  {
   "cell_type": "code",
   "execution_count": 20,
   "id": "54038a67",
   "metadata": {},
   "outputs": [
    {
     "name": "stdout",
     "output_type": "stream",
     "text": [
      "enter the names :aswin,nabeel,roshan\n",
      "Total 3 'a' in the names\n"
     ]
    }
   ],
   "source": [
    "#3.store a list of first names count'a'within the list\n",
    "name=input(\"enter the names :\").split(\",\")\n",
    "nl=sum([n.lower().count('a') for n in name ])\n",
    "print(f\"Total {nl} 'a' in the names\")"
   ]
  },
  {
   "cell_type": "code",
   "execution_count": 21,
   "id": "5e465aae",
   "metadata": {},
   "outputs": [
    {
     "name": "stdout",
     "output_type": "stream",
     "text": [
      "Enter first list of integers : 1 2 3 4\n",
      "Enter second list of integers:1 5 4\n",
      "lists are not same length\n",
      "sum of lists is same\n",
      "same number occur in lists\n"
     ]
    }
   ],
   "source": [
    "#4.check two list\n",
    "l1=list(map(int,input(\"Enter first list of integers : \").split()))\n",
    "l2=list(map(int,input(\"Enter second list of integers:\").split()))\n",
    "if len(l1)==len(l2):\n",
    "    print(\"lists are same length\")\n",
    "else:\n",
    "    print(\"lists are not same length\")\n",
    "if sum([x for x in l1])==sum([x for x in l2]):\n",
    "    print(\"sum of lists is same\")\n",
    "else:\n",
    "    print(\"sum of lists is not same \")\n",
    "if any([x in l2 for x in l1]):\n",
    "    print(\"same number occur in lists\")\n",
    "else:\n",
    "    print(\"same number not occur in lists\")"
   ]
  },
  {
   "cell_type": "code",
   "execution_count": 23,
   "id": "9324949a",
   "metadata": {},
   "outputs": [
    {
     "name": "stdout",
     "output_type": "stream",
     "text": [
      "Enter the numbers :-1 2 3 -4 5\n",
      "positive numbers [2, 3, 5]\n"
     ]
    }
   ],
   "source": [
    "#5.list comprehensions\n",
    "#(a)generate positive list of numbers\n",
    "n=list(map(int,input(\"Enter the numbers :\").split()))\n",
    "nl=[x for x in n if x>0]\n",
    "print(\"positive numbers\",nl)"
   ]
  },
  {
   "cell_type": "code",
   "execution_count": 25,
   "id": "348910b0",
   "metadata": {},
   "outputs": [
    {
     "name": "stdout",
     "output_type": "stream",
     "text": [
      "Enter the number :2 3 4\n",
      "square of the number are [4, 9, 16]\n"
     ]
    }
   ],
   "source": [
    "#(b) square of N numbers\n",
    "num=list(map(int,input(\"Enter the number :\").split()))\n",
    "nl=[n**2 for n in num]\n",
    "print(\"square of the number are\",nl)"
   ]
  },
  {
   "cell_type": "code",
   "execution_count": 27,
   "id": "97cea8bf",
   "metadata": {},
   "outputs": [
    {
     "name": "stdout",
     "output_type": "stream",
     "text": [
      "Enter the word :adil\n",
      "vowels in the word is ['a', 'i']\n"
     ]
    }
   ],
   "source": [
    "#(c) list of vowels selected from a given word\n",
    "word=input(\"Enter the word :\")\n",
    "nl=[x for x in word if x.lower() in 'aeiou']\n",
    "print(\"vowels in the word is\",nl)"
   ]
  },
  {
   "cell_type": "code",
   "execution_count": 28,
   "id": "33ddd789",
   "metadata": {},
   "outputs": [
    {
     "name": "stdout",
     "output_type": "stream",
     "text": [
      "Enter the word :adil\n",
      "ordinary values of word is [97, 100, 105, 108]\n"
     ]
    }
   ],
   "source": [
    "#(d) List ordinal value of each element of a word\n",
    "word=input(\"Enter the word :\")\n",
    "nl=[ord(x) for x in word]\n",
    "print(\"ordinary values of word is\",nl)"
   ]
  },
  {
   "cell_type": "code",
   "execution_count": null,
   "id": "6ffb50c9",
   "metadata": {},
   "outputs": [],
   "source": []
  }
 ],
 "metadata": {
  "kernelspec": {
   "display_name": "Python 3 (ipykernel)",
   "language": "python",
   "name": "python3"
  },
  "language_info": {
   "codemirror_mode": {
    "name": "ipython",
    "version": 3
   },
   "file_extension": ".py",
   "mimetype": "text/x-python",
   "name": "python",
   "nbconvert_exporter": "python",
   "pygments_lexer": "ipython3",
   "version": "3.10.12"
  }
 },
 "nbformat": 4,
 "nbformat_minor": 5
}

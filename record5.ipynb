{
 "cells": [
  {
   "cell_type": "code",
   "execution_count": 3,
   "id": "9a0eb318",
   "metadata": {},
   "outputs": [
    {
     "name": "stdout",
     "output_type": "stream",
     "text": [
      "Enter first number:12\n",
      "Enter second number:40\n",
      "gcd of the numbers is : 4\n"
     ]
    }
   ],
   "source": [
    "#1.gcd of 2 numbers\n",
    "n1=int(input(\"Enter first number:\"))\n",
    "n2=int(input(\"Enter second number:\"))\n",
    "if n1<n2:\n",
    "    n1,n2=n2,n1\n",
    "while n2!=0:\n",
    "    n1,n2=n2,n1%n2\n",
    "print(\"gcd of the numbers is :\",n1)"
   ]
  },
  {
   "cell_type": "code",
   "execution_count": 5,
   "id": "4fec59c0",
   "metadata": {},
   "outputs": [
    {
     "name": "stdout",
     "output_type": "stream",
     "text": [
      "Enter numbers : 1 2 3 4 5 6\n",
      "list removing even number [1, 3, 5]\n"
     ]
    }
   ],
   "source": [
    "#2.create a list removing even numbers\n",
    "l=list(map(int,input(\"Enter numbers : \").split()))\n",
    "odd=[]\n",
    "for i in l:\n",
    "    if i%2!=0:\n",
    "        odd.append(i)\n",
    "print(\"list removing even number\",odd)"
   ]
  },
  {
   "cell_type": "code",
   "execution_count": 7,
   "id": "a9bd4e67",
   "metadata": {},
   "outputs": [
    {
     "name": "stdout",
     "output_type": "stream",
     "text": [
      "Enter the number : 1 2 3 4 5\n",
      "sum of numbers in list :  15\n"
     ]
    }
   ],
   "source": [
    "#3.sum of all items in a list\n",
    "l=list(map(int,input(\"Enter the number : \").split()))\n",
    "sum=0\n",
    "for i in l:\n",
    "    sum+=i\n",
    "print(\"sum of numbers in list : \",sum)"
   ]
  },
  {
   "cell_type": "code",
   "execution_count": 10,
   "id": "47644969",
   "metadata": {},
   "outputs": [
    {
     "name": "stdout",
     "output_type": "stream",
     "text": [
      "Enter the starting range : 1000\n",
      "Enter the ending range : 9999\n",
      "The perfect squere even numbers in the range : \n",
      "4624\n",
      "6084\n",
      "6400\n",
      "8464\n"
     ]
    }
   ],
   "source": [
    "#4.A list 4 digit numbers range with all thire digit and perfect squere\n",
    "import math\n",
    "start=int(input(\"Enter the starting range : \"))\n",
    "end=int(input(\"Enter the ending range : \"))\n",
    "print(\"The perfect squere even numbers in the range : \")\n",
    "for num in range(start,end+1):\n",
    "    if all(int(digit)%2==0 for digit in str (num)):\n",
    "        root=int(math.sqrt(num))\n",
    "        if root*root==num:\n",
    "            print(num)"
   ]
  },
  {
   "cell_type": "code",
   "execution_count": 11,
   "id": "723ec856",
   "metadata": {},
   "outputs": [
    {
     "name": "stdout",
     "output_type": "stream",
     "text": [
      "Enter the string :append\n",
      "character frequency in a string is :\n",
      "a : 1\n",
      "p : 2\n",
      "e : 1\n",
      "n : 1\n",
      "d : 1\n"
     ]
    }
   ],
   "source": [
    "#5.count the number of characters(character frequency)in a string\n",
    "s=input(\"Enter the string :\")\n",
    "print(\"character frequency in a string is :\")\n",
    "count=[]\n",
    "for i in s:\n",
    "    if i in count:\n",
    "        continue\n",
    "    count.append(i)\n",
    "    print(i,\":\",s.count(i))"
   ]
  },
  {
   "cell_type": "code",
   "execution_count": 13,
   "id": "351082f1",
   "metadata": {},
   "outputs": [
    {
     "name": "stdout",
     "output_type": "stream",
     "text": [
      "Enter the string :driv\n",
      "Modified string :driving"
     ]
    }
   ],
   "source": [
    "#6.add 'ing' at the end of a given string if it already ends with 'ing' then add 'ly'\n",
    "s=input(\"Enter the string :\")\n",
    "print(\"Modified string :\",end=\"\")\n",
    "if s.endswith(\"ing\"):\n",
    "    print(s+\"ly\",end=\"\")\n",
    "else:\n",
    "    print(s+\"ing\",end=\"\")"
   ]
  },
  {
   "cell_type": "code",
   "execution_count": null,
   "id": "d6742571",
   "metadata": {},
   "outputs": [],
   "source": []
  }
 ],
 "metadata": {
  "kernelspec": {
   "display_name": "Python 3 (ipykernel)",
   "language": "python",
   "name": "python3"
  },
  "language_info": {
   "codemirror_mode": {
    "name": "ipython",
    "version": 3
   },
   "file_extension": ".py",
   "mimetype": "text/x-python",
   "name": "python",
   "nbconvert_exporter": "python",
   "pygments_lexer": "ipython3",
   "version": "3.10.12"
  }
 },
 "nbformat": 4,
 "nbformat_minor": 5
}

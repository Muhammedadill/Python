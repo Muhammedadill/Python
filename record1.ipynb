{
 "cells": [
  {
   "cell_type": "code",
   "execution_count": 2,
   "id": "80b20b19",
   "metadata": {},
   "outputs": [
    {
     "name": "stdout",
     "output_type": "stream",
     "text": [
      "enter the integer:2\n",
      "result= 246\n"
     ]
    }
   ],
   "source": [
    "n=input(\"enter the integer:\")\n",
    "r=int(n)+int(n*2)+int(n*3)\n",
    "print(\"result=\",r)\n"
   ]
  },
  {
   "cell_type": "code",
   "execution_count": 11,
   "id": "1400caad",
   "metadata": {},
   "outputs": [
    {
     "name": "stdout",
     "output_type": "stream",
     "text": [
      "enter the radius:2\n",
      "area= 12.57\n"
     ]
    }
   ],
   "source": [
    "import math\n",
    "r=int(input(\"enter the radius:\"))\n",
    "area=pi*r*r\n",
    "print(\"area=\",round(area,2))"
   ]
  },
  {
   "cell_type": "code",
   "execution_count": 10,
   "id": "d1ceee10",
   "metadata": {},
   "outputs": [
    {
     "name": "stdout",
     "output_type": "stream",
     "text": [
      "enter the first number:10\n",
      "enter the second number:5\n",
      "enter the third number:20\n",
      "the biggest number is: 20.0\n"
     ]
    }
   ],
   "source": [
    "num1=float(input(\"enter the first number:\"))\n",
    "num2=float(input(\"enter the second number:\"))\n",
    "num3=float(input(\"enter the third number:\"))\n",
    "print(\"the biggest number is:\",max(num1,num2,num3))"
   ]
  },
  {
   "cell_type": "code",
   "execution_count": null,
   "id": "1f50788f",
   "metadata": {},
   "outputs": [],
   "source": []
  },
  {
   "cell_type": "code",
   "execution_count": null,
   "id": "e2527448",
   "metadata": {},
   "outputs": [],
   "source": []
  }
 ],
 "metadata": {
  "kernelspec": {
   "display_name": "Python 3 (ipykernel)",
   "language": "python",
   "name": "python3"
  },
  "language_info": {
   "codemirror_mode": {
    "name": "ipython",
    "version": 3
   },
   "file_extension": ".py",
   "mimetype": "text/x-python",
   "name": "python",
   "nbconvert_exporter": "python",
   "pygments_lexer": "ipython3",
   "version": "3.10.12"
  }
 },
 "nbformat": 4,
 "nbformat_minor": 5
}

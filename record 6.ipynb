{
 "cells": [
  {
   "cell_type": "code",
   "execution_count": 1,
   "id": "5be44b20",
   "metadata": {},
   "outputs": [
    {
     "name": "stdout",
     "output_type": "stream",
     "text": [
      "enter last year: 2042\n",
      "current year is 2024\n",
      "Leap years from 2024 to 2042:\n",
      "2024\n",
      "2028\n",
      "2032\n",
      "2036\n",
      "2040\n"
     ]
    }
   ],
   "source": [
    "#1. Display future leap years from current year to a final year entered by user. \n",
    "year = int(input(\"enter last year: \"))\n",
    "def leap(year):\n",
    "    if year % 400 == 0:\n",
    "        return True\n",
    "    elif year % 100 == 0:\n",
    "        return False\n",
    "    elif year % 4 == 0:\n",
    "        return True\n",
    "    else:\n",
    "        return False\n",
    "current = 2024\n",
    "print(\"current year is\",current)\n",
    "print(f\"Leap years from {current} to {year}:\")\n",
    "for x in range(current, year + 1):\n",
    "    if leap(x):\n",
    "        print(x)"
   ]
  },
  {
   "cell_type": "code",
   "execution_count": 2,
   "id": "0c6db591",
   "metadata": {},
   "outputs": [
    {
     "name": "stdout",
     "output_type": "stream",
     "text": [
      "Enter a positive no: 5\n",
      "the factorial of 5 is 120\n"
     ]
    }
   ],
   "source": [
    "#2. Program to find the factorial of a number.\n",
    "def factorial(n):\n",
    "    if n == 0 or n == 1:\n",
    "        return 1\n",
    "    else:\n",
    "        return n * factorial(n - 1)\n",
    "num = int(input(\"Enter a positive no: \"))\n",
    "if num > 0:\n",
    "    result = factorial(num)\n",
    "    print(f\"the factorial of {num} is {result}\")"
   ]
  },
  {
   "cell_type": "code",
   "execution_count": 3,
   "id": "7dfe8800",
   "metadata": {},
   "outputs": [
    {
     "name": "stdout",
     "output_type": "stream",
     "text": [
      "Enter a number :5\n",
      "fibonacci are : [0, 1, 1, 2, 3]\n"
     ]
    }
   ],
   "source": [
    "#3. Generate Fibonacci series of N terms\n",
    "n=int(input(\"Enter a number :\"))\n",
    "def fibonacci(n):\n",
    "    fib= []\n",
    "    if n >= 1:\n",
    "        fib.append(0)\n",
    "    if n >= 2:\n",
    "        fib.append(1)\n",
    "    for i in range(2, n):\n",
    "        nextt = fib[-1] + fib[-2]\n",
    "        fib.append(nextt)\n",
    "    return fib\n",
    "print(\"fibonacci are :\",fibonacci(n))"
   ]
  },
  {
   "cell_type": "code",
   "execution_count": 4,
   "id": "3b4d201e",
   "metadata": {},
   "outputs": [
    {
     "name": "stdout",
     "output_type": "stream",
     "text": [
      "Enter the word:i love cricket\n",
      "Length of the longest word:7 \n"
     ]
    }
   ],
   "source": [
    "#4.LONGEST WORD \n",
    "def longest_word(n):\n",
    "    l_word=max(n,key=len)\n",
    "    return len(l_word)\n",
    "n=input(\"Enter the word:\").split()\n",
    "print(f\"Length of the longest word:{longest_word(n)} \")"
   ]
  },
  {
   "cell_type": "code",
   "execution_count": 5,
   "id": "3f3502e4",
   "metadata": {},
   "outputs": [
    {
     "name": "stdout",
     "output_type": "stream",
     "text": [
      "Enter the number of steps : 5\n",
      "* \n",
      "* * \n",
      "* * * \n",
      "* * * * \n",
      "* * * * * \n",
      "* * * * \n",
      "* * * \n",
      "* * \n",
      "* \n"
     ]
    }
   ],
   "source": [
    "#5. Construct following pattern using nested loop PYRMAID (*)\n",
    "def pyramid(n):\n",
    "    for i in range(1, n+1):\n",
    "        print(\"* \" * i)    \n",
    "    for i in range(n-1, 0, -1):\n",
    "        print(\"* \" * i)\n",
    "n = int(input(\"Enter the number of steps : \"))\n",
    "pyramid(n)"
   ]
  },
  {
   "cell_type": "code",
   "execution_count": 6,
   "id": "b42b908f",
   "metadata": {},
   "outputs": [
    {
     "name": "stdout",
     "output_type": "stream",
     "text": [
      "Enter a number: 5\n",
      "Factors of 5 are: [1, 5]\n"
     ]
    }
   ],
   "source": [
    "#6. Generate all factors of a number.\n",
    "def factors(n):\n",
    "    factorlist = []\n",
    "    for i in range(1, n+1):\n",
    "        if n % i == 0:\n",
    "            factorlist.append(i)    \n",
    "    return factorlist\n",
    "number = int(input(\"Enter a number: \"))\n",
    "print(\"Factors of\", number, \"are:\", factors(number))"
   ]
  },
  {
   "cell_type": "code",
   "execution_count": 10,
   "id": "9a2d490a",
   "metadata": {},
   "outputs": [
    {
     "name": "stdout",
     "output_type": "stream",
     "text": [
      "Enter the number of steps: 5\n",
      "1 \n",
      "2 4 \n",
      "3 6 9 \n",
      "4 8 12 16 \n",
      "5 10 15 20 25 \n"
     ]
    }
   ],
   "source": [
    "#7.  Display the given pyramid with step number accepted from user\n",
    "def pyramid(n):\n",
    "    for i in range(1, n+1):\n",
    "        for j in range(1, i+1):\n",
    "            print(i * j, end=\" \")\n",
    "        print()\n",
    "n = int(input(\"Enter the number of steps: \"))\n",
    "pyramid(n)"
   ]
  },
  {
   "cell_type": "code",
   "execution_count": null,
   "id": "12c044ff",
   "metadata": {},
   "outputs": [],
   "source": [
    "#8.AREA OF SQUARE,RECTANGLE,TRIANGLE\n",
    "square = lambda s: s**2\n",
    "rect = lambda l, w: l * w\n",
    "tri = lambda b, h: 0.5 * b * h\n",
    "s = float(input(\"Enter the size:\"))\n",
    "l = float(input(\"Enter the length:\"))\n",
    "w = float(input(\"Enter the width:\"))\n",
    "b = float(input(\"Enter the base:\"))\n",
    "h = float(input(\"Enter the height:\"))\n",
    "\n",
    "print(f\"Area of square: {square(s)}\")\n",
    "print(f\"Area of rectangle: {rect(l, w)}\")\n",
    "print(f\"Area of triangle: {tri(b, h)}\")"
   ]
  },
  {
   "cell_type": "code",
   "execution_count": null,
   "id": "bf60bf79",
   "metadata": {},
   "outputs": [],
   "source": []
  }
 ],
 "metadata": {
  "kernelspec": {
   "display_name": "Python 3 (ipykernel)",
   "language": "python",
   "name": "python3"
  },
  "language_info": {
   "codemirror_mode": {
    "name": "ipython",
    "version": 3
   },
   "file_extension": ".py",
   "mimetype": "text/x-python",
   "name": "python",
   "nbconvert_exporter": "python",
   "pygments_lexer": "ipython3",
   "version": "3.10.12"
  }
 },
 "nbformat": 4,
 "nbformat_minor": 5
}
